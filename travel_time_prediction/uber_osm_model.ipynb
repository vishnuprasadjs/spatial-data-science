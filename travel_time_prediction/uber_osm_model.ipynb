{
 "cells": [
  {
   "cell_type": "markdown",
   "metadata": {},
   "source": [
    "##  Travel time prediction in Indian Metro cities using Uber Movement data and OpenStreetMap\n"
   ]
  },
  {
   "cell_type": "markdown",
   "metadata": {},
   "source": [
    "Uber provides anonymized and aggregated travel time data through [Uber Movement](https://movement.uber.com/) platform for many citites across the world. For India, current and historic data is available for 5 cities - Bangalore, Hyderabad, New Delhi, Mumbai and Kolkata. It also provides the details on the ward boundaries in the form of JSON file."
   ]
  },
  {
   "cell_type": "markdown",
   "metadata": {},
   "source": [
    "[OpenStreetMap](https://wiki.openstreetmap.org/wiki/About_OpenStreetMap) (OSM) is a free, editable map of the whole world that is being built by volunteers largely from scratch and released with an open-content license. OSM data includes a global navigable street network dataset. Several services exists that provide routing and network analysis on top of this data. "
   ]
  },
  {
   "cell_type": "markdown",
   "metadata": {},
   "source": [
    "In this project, we use the open travel time dataset from Uber and leverage open-source routing services for OpenStreetMap to build a fairly accurate model for travel time within each of the metro cities in India. We show that by using rich ecosystem of Python Geospatial libraries, we can easily consume, process, and visualize large amount of geospatial data easily and incorporate it easily into a machine learning model."
   ]
  },
  {
   "cell_type": "markdown",
   "metadata": {},
   "source": [
    "**Open datasets**\n",
    "- Uber Movement - Travel times and ward boundaries\n",
    "- OpenStreetMap\n",
    "\n",
    "**Python libraries**\n",
    "- geopandas\n",
    "- shapely\n",
    "- matplotlib\n",
    "- folium\n",
    "- sklearn\n",
    "\n",
    "**Services**\n",
    "- Open Source Routing Machine (OSRM)\n",
    "- OpenRouteService (ORS) API "
   ]
  },
  {
   "cell_type": "code",
   "execution_count": 5,
   "metadata": {},
   "outputs": [],
   "source": [
    "import pandas as pd\n",
    "import geopandas as gpd\n",
    "import requests\n",
    "import shapely\n",
    "import matplotlib.pyplot as plt\n",
    "import datetime\n",
    "import os\n",
    "%matplotlib inline"
   ]
  },
  {
   "cell_type": "markdown",
   "metadata": {},
   "source": [
    "## Reading Datasets"
   ]
  },
  {
   "cell_type": "markdown",
   "metadata": {},
   "source": [
    "### Travel Times"
   ]
  },
  {
   "cell_type": "code",
   "execution_count": 9,
   "metadata": {},
   "outputs": [],
   "source": [
    "data_folder = os.path.join('data', 'uber')"
   ]
  },
  {
   "cell_type": "markdown",
   "metadata": {},
   "source": [
    "The Uber Movement Travel Times data comes as a CSV file for each quarter. Here we are using the **Travel Times By Date By Hour Buckets (All Days)** dataset. This data set includes the arithmetic mean, geometric mean, and standard deviations for aggregated travel times between every ward in the city, for every day of the quarter and aggregated into time categories. This is a large dataset with over **7M rows**.\n",
    "\n",
    "We import the data as a Pandas DataFrame and call `convert_dtypes()` to select the best datatypes for each column. "
   ]
  },
  {
   "cell_type": "code",
   "execution_count": 10,
   "metadata": {},
   "outputs": [],
   "source": [
    "travel_times_file = 'bangalore-wards-2020-1-All-DatesByHourBucketsAggregate.csv'\n",
    "travel_times_filepath = os.path.join(data_folder, travel_times_file)\n",
    "travel_times= pd.read_csv(travel_times_filepath)\n",
    "travel_times = travel_times.convert_dtypes()"
   ]
  },
  {
   "cell_type": "code",
   "execution_count": 8,
   "metadata": {},
   "outputs": [
    {
     "data": {
      "text/html": [
       "<div>\n",
       "<style scoped>\n",
       "    .dataframe tbody tr th:only-of-type {\n",
       "        vertical-align: middle;\n",
       "    }\n",
       "\n",
       "    .dataframe tbody tr th {\n",
       "        vertical-align: top;\n",
       "    }\n",
       "\n",
       "    .dataframe thead th {\n",
       "        text-align: right;\n",
       "    }\n",
       "</style>\n",
       "<table border=\"1\" class=\"dataframe\">\n",
       "  <thead>\n",
       "    <tr style=\"text-align: right;\">\n",
       "      <th></th>\n",
       "      <th>sourceid</th>\n",
       "      <th>dstid</th>\n",
       "      <th>month</th>\n",
       "      <th>day</th>\n",
       "      <th>start_hour</th>\n",
       "      <th>end_hour</th>\n",
       "      <th>mean_travel_time</th>\n",
       "      <th>standard_deviation_travel_time</th>\n",
       "      <th>geometric_mean_travel_time</th>\n",
       "      <th>geometric_standard_deviation_travel_time</th>\n",
       "    </tr>\n",
       "  </thead>\n",
       "  <tbody>\n",
       "    <tr>\n",
       "      <th>0</th>\n",
       "      <td>102</td>\n",
       "      <td>97</td>\n",
       "      <td>3</td>\n",
       "      <td>13</td>\n",
       "      <td>10</td>\n",
       "      <td>16</td>\n",
       "      <td>322.80</td>\n",
       "      <td>425.14</td>\n",
       "      <td>270.59</td>\n",
       "      <td>1.70</td>\n",
       "    </tr>\n",
       "    <tr>\n",
       "      <th>1</th>\n",
       "      <td>98</td>\n",
       "      <td>55</td>\n",
       "      <td>2</td>\n",
       "      <td>11</td>\n",
       "      <td>0</td>\n",
       "      <td>7</td>\n",
       "      <td>933.90</td>\n",
       "      <td>194.85</td>\n",
       "      <td>915.32</td>\n",
       "      <td>1.22</td>\n",
       "    </tr>\n",
       "    <tr>\n",
       "      <th>2</th>\n",
       "      <td>148</td>\n",
       "      <td>111</td>\n",
       "      <td>1</td>\n",
       "      <td>11</td>\n",
       "      <td>16</td>\n",
       "      <td>19</td>\n",
       "      <td>1861.08</td>\n",
       "      <td>317.79</td>\n",
       "      <td>1836.22</td>\n",
       "      <td>1.17</td>\n",
       "    </tr>\n",
       "    <tr>\n",
       "      <th>3</th>\n",
       "      <td>58</td>\n",
       "      <td>22</td>\n",
       "      <td>2</td>\n",
       "      <td>8</td>\n",
       "      <td>16</td>\n",
       "      <td>19</td>\n",
       "      <td>1463.30</td>\n",
       "      <td>455.25</td>\n",
       "      <td>1391.25</td>\n",
       "      <td>1.38</td>\n",
       "    </tr>\n",
       "    <tr>\n",
       "      <th>4</th>\n",
       "      <td>54</td>\n",
       "      <td>62</td>\n",
       "      <td>1</td>\n",
       "      <td>18</td>\n",
       "      <td>16</td>\n",
       "      <td>19</td>\n",
       "      <td>701.49</td>\n",
       "      <td>320.39</td>\n",
       "      <td>634.64</td>\n",
       "      <td>1.56</td>\n",
       "    </tr>\n",
       "    <tr>\n",
       "      <th>...</th>\n",
       "      <td>...</td>\n",
       "      <td>...</td>\n",
       "      <td>...</td>\n",
       "      <td>...</td>\n",
       "      <td>...</td>\n",
       "      <td>...</td>\n",
       "      <td>...</td>\n",
       "      <td>...</td>\n",
       "      <td>...</td>\n",
       "      <td>...</td>\n",
       "    </tr>\n",
       "    <tr>\n",
       "      <th>7648072</th>\n",
       "      <td>100</td>\n",
       "      <td>109</td>\n",
       "      <td>3</td>\n",
       "      <td>6</td>\n",
       "      <td>10</td>\n",
       "      <td>16</td>\n",
       "      <td>794.02</td>\n",
       "      <td>161.94</td>\n",
       "      <td>779.03</td>\n",
       "      <td>1.21</td>\n",
       "    </tr>\n",
       "    <tr>\n",
       "      <th>7648073</th>\n",
       "      <td>169</td>\n",
       "      <td>173</td>\n",
       "      <td>1</td>\n",
       "      <td>25</td>\n",
       "      <td>0</td>\n",
       "      <td>7</td>\n",
       "      <td>2539.70</td>\n",
       "      <td>317.88</td>\n",
       "      <td>2519.15</td>\n",
       "      <td>1.14</td>\n",
       "    </tr>\n",
       "    <tr>\n",
       "      <th>7648074</th>\n",
       "      <td>71</td>\n",
       "      <td>52</td>\n",
       "      <td>3</td>\n",
       "      <td>5</td>\n",
       "      <td>10</td>\n",
       "      <td>16</td>\n",
       "      <td>1072.40</td>\n",
       "      <td>273.84</td>\n",
       "      <td>1043.70</td>\n",
       "      <td>1.25</td>\n",
       "    </tr>\n",
       "    <tr>\n",
       "      <th>7648075</th>\n",
       "      <td>85</td>\n",
       "      <td>140</td>\n",
       "      <td>1</td>\n",
       "      <td>26</td>\n",
       "      <td>19</td>\n",
       "      <td>0</td>\n",
       "      <td>1298.86</td>\n",
       "      <td>347.86</td>\n",
       "      <td>1253.28</td>\n",
       "      <td>1.31</td>\n",
       "    </tr>\n",
       "    <tr>\n",
       "      <th>7648076</th>\n",
       "      <td>144</td>\n",
       "      <td>151</td>\n",
       "      <td>1</td>\n",
       "      <td>11</td>\n",
       "      <td>7</td>\n",
       "      <td>10</td>\n",
       "      <td>712.42</td>\n",
       "      <td>168.96</td>\n",
       "      <td>693.65</td>\n",
       "      <td>1.26</td>\n",
       "    </tr>\n",
       "  </tbody>\n",
       "</table>\n",
       "<p>7648077 rows × 10 columns</p>\n",
       "</div>"
      ],
      "text/plain": [
       "         sourceid  dstid  month  day  start_hour  end_hour  mean_travel_time  \\\n",
       "0             102     97      3   13          10        16            322.80   \n",
       "1              98     55      2   11           0         7            933.90   \n",
       "2             148    111      1   11          16        19           1861.08   \n",
       "3              58     22      2    8          16        19           1463.30   \n",
       "4              54     62      1   18          16        19            701.49   \n",
       "...           ...    ...    ...  ...         ...       ...               ...   \n",
       "7648072       100    109      3    6          10        16            794.02   \n",
       "7648073       169    173      1   25           0         7           2539.70   \n",
       "7648074        71     52      3    5          10        16           1072.40   \n",
       "7648075        85    140      1   26          19         0           1298.86   \n",
       "7648076       144    151      1   11           7        10            712.42   \n",
       "\n",
       "         standard_deviation_travel_time  geometric_mean_travel_time  \\\n",
       "0                                425.14                      270.59   \n",
       "1                                194.85                      915.32   \n",
       "2                                317.79                     1836.22   \n",
       "3                                455.25                     1391.25   \n",
       "4                                320.39                      634.64   \n",
       "...                                 ...                         ...   \n",
       "7648072                          161.94                      779.03   \n",
       "7648073                          317.88                     2519.15   \n",
       "7648074                          273.84                     1043.70   \n",
       "7648075                          347.86                     1253.28   \n",
       "7648076                          168.96                      693.65   \n",
       "\n",
       "         geometric_standard_deviation_travel_time  \n",
       "0                                            1.70  \n",
       "1                                            1.22  \n",
       "2                                            1.17  \n",
       "3                                            1.38  \n",
       "4                                            1.56  \n",
       "...                                           ...  \n",
       "7648072                                      1.21  \n",
       "7648073                                      1.14  \n",
       "7648074                                      1.25  \n",
       "7648075                                      1.31  \n",
       "7648076                                      1.26  \n",
       "\n",
       "[7648077 rows x 10 columns]"
      ]
     },
     "execution_count": 8,
     "metadata": {},
     "output_type": "execute_result"
    }
   ],
   "source": [
    "travel_times"
   ]
  },
  {
   "cell_type": "markdown",
   "metadata": {},
   "source": [
    "### Ward Boundaries"
   ]
  },
  {
   "cell_type": "markdown",
   "metadata": {},
   "source": [
    "The travel times dataset contain details of travel between *Zones*. For Indian citites, the zones are **Wards** as defined by the local municipal corporation. This data comes as a **GeoJSON** file that contains the polygon representation of each ward. We use `geopandas` to read the file as a GeoDataFrame."
   ]
  },
  {
   "cell_type": "code",
   "execution_count": 12,
   "metadata": {},
   "outputs": [],
   "source": [
    "wards_file = 'bangalore_wards.json'\n",
    "wards_filepath = os.path.join(data_folder, wards_file)\n",
    "wards = gpd.read_file(wards_filepath)"
   ]
  },
  {
   "cell_type": "code",
   "execution_count": 13,
   "metadata": {},
   "outputs": [
    {
     "data": {
      "text/html": [
       "<div>\n",
       "<style scoped>\n",
       "    .dataframe tbody tr th:only-of-type {\n",
       "        vertical-align: middle;\n",
       "    }\n",
       "\n",
       "    .dataframe tbody tr th {\n",
       "        vertical-align: top;\n",
       "    }\n",
       "\n",
       "    .dataframe thead th {\n",
       "        text-align: right;\n",
       "    }\n",
       "</style>\n",
       "<table border=\"1\" class=\"dataframe\">\n",
       "  <thead>\n",
       "    <tr style=\"text-align: right;\">\n",
       "      <th></th>\n",
       "      <th>WARD_NO</th>\n",
       "      <th>WARD_NAME</th>\n",
       "      <th>MOVEMENT_ID</th>\n",
       "      <th>DISPLAY_NAME</th>\n",
       "      <th>geometry</th>\n",
       "    </tr>\n",
       "  </thead>\n",
       "  <tbody>\n",
       "    <tr>\n",
       "      <th>0</th>\n",
       "      <td>2</td>\n",
       "      <td>Chowdeswari Ward</td>\n",
       "      <td>1</td>\n",
       "      <td>Unnamed Road, Bengaluru</td>\n",
       "      <td>MULTIPOLYGON (((77.59229 13.09720, 77.59094 13...</td>\n",
       "    </tr>\n",
       "    <tr>\n",
       "      <th>1</th>\n",
       "      <td>3</td>\n",
       "      <td>Atturu</td>\n",
       "      <td>2</td>\n",
       "      <td>9th Cross Bhel Layout, Adityanagar, Vidyaranya...</td>\n",
       "      <td>MULTIPOLYGON (((77.56862 13.12705, 77.57064 13...</td>\n",
       "    </tr>\n",
       "    <tr>\n",
       "      <th>2</th>\n",
       "      <td>4</td>\n",
       "      <td>Yelahanka Satellite Town</td>\n",
       "      <td>3</td>\n",
       "      <td>15th A Cross Road, Yelahanka Satellite Town, Y...</td>\n",
       "      <td>MULTIPOLYGON (((77.59094 13.09842, 77.59229 13...</td>\n",
       "    </tr>\n",
       "    <tr>\n",
       "      <th>3</th>\n",
       "      <td>51</td>\n",
       "      <td>Vijnanapura</td>\n",
       "      <td>4</td>\n",
       "      <td>SP Naidu Layout 4th Cross Street, SP Naidu Lay...</td>\n",
       "      <td>MULTIPOLYGON (((77.67683 13.01147, 77.67695 13...</td>\n",
       "    </tr>\n",
       "    <tr>\n",
       "      <th>4</th>\n",
       "      <td>53</td>\n",
       "      <td>Basavanapura</td>\n",
       "      <td>5</td>\n",
       "      <td>Medahalli Kadugodi Road, Bharathi Nagar, Krish...</td>\n",
       "      <td>MULTIPOLYGON (((77.72899 13.02061, 77.72994 13...</td>\n",
       "    </tr>\n",
       "    <tr>\n",
       "      <th>...</th>\n",
       "      <td>...</td>\n",
       "      <td>...</td>\n",
       "      <td>...</td>\n",
       "      <td>...</td>\n",
       "      <td>...</td>\n",
       "    </tr>\n",
       "    <tr>\n",
       "      <th>193</th>\n",
       "      <td>172</td>\n",
       "      <td>Madivala</td>\n",
       "      <td>194</td>\n",
       "      <td>0 1st B Cross Road, Cashier Layout, 1st Stage,...</td>\n",
       "      <td>MULTIPOLYGON (((77.61399 12.92347, 77.61419 12...</td>\n",
       "    </tr>\n",
       "    <tr>\n",
       "      <th>194</th>\n",
       "      <td>26</td>\n",
       "      <td>Ramamurthy Nagar</td>\n",
       "      <td>195</td>\n",
       "      <td>Kalkere-Agara Main Road, Horamavu Agara, Kalke...</td>\n",
       "      <td>MULTIPOLYGON (((77.68336 13.05192, 77.68384 13...</td>\n",
       "    </tr>\n",
       "    <tr>\n",
       "      <th>195</th>\n",
       "      <td>25</td>\n",
       "      <td>Horamavu</td>\n",
       "      <td>196</td>\n",
       "      <td>0 Horamavu Agara Main Road, 1st Block, Mallapp...</td>\n",
       "      <td>MULTIPOLYGON (((77.64931 13.07853, 77.64993 13...</td>\n",
       "    </tr>\n",
       "    <tr>\n",
       "      <th>196</th>\n",
       "      <td>86</td>\n",
       "      <td>Marathahalli</td>\n",
       "      <td>197</td>\n",
       "      <td>0 3rd Cross Road, Manjunatha Layout, Marathaha...</td>\n",
       "      <td>MULTIPOLYGON (((77.68549 12.94121, 77.68539 12...</td>\n",
       "    </tr>\n",
       "    <tr>\n",
       "      <th>197</th>\n",
       "      <td>198</td>\n",
       "      <td>Hemmigepura</td>\n",
       "      <td>198</td>\n",
       "      <td>BGS Road, Kodipalya, Bengaluru</td>\n",
       "      <td>MULTIPOLYGON (((77.49854 12.92574, 77.49854 12...</td>\n",
       "    </tr>\n",
       "  </tbody>\n",
       "</table>\n",
       "<p>198 rows × 5 columns</p>\n",
       "</div>"
      ],
      "text/plain": [
       "    WARD_NO                 WARD_NAME MOVEMENT_ID  \\\n",
       "0         2          Chowdeswari Ward           1   \n",
       "1         3                    Atturu           2   \n",
       "2         4  Yelahanka Satellite Town           3   \n",
       "3        51               Vijnanapura           4   \n",
       "4        53              Basavanapura           5   \n",
       "..      ...                       ...         ...   \n",
       "193     172                  Madivala         194   \n",
       "194      26          Ramamurthy Nagar         195   \n",
       "195      25                  Horamavu         196   \n",
       "196      86              Marathahalli         197   \n",
       "197     198               Hemmigepura         198   \n",
       "\n",
       "                                          DISPLAY_NAME  \\\n",
       "0                              Unnamed Road, Bengaluru   \n",
       "1    9th Cross Bhel Layout, Adityanagar, Vidyaranya...   \n",
       "2    15th A Cross Road, Yelahanka Satellite Town, Y...   \n",
       "3    SP Naidu Layout 4th Cross Street, SP Naidu Lay...   \n",
       "4    Medahalli Kadugodi Road, Bharathi Nagar, Krish...   \n",
       "..                                                 ...   \n",
       "193  0 1st B Cross Road, Cashier Layout, 1st Stage,...   \n",
       "194  Kalkere-Agara Main Road, Horamavu Agara, Kalke...   \n",
       "195  0 Horamavu Agara Main Road, 1st Block, Mallapp...   \n",
       "196  0 3rd Cross Road, Manjunatha Layout, Marathaha...   \n",
       "197                     BGS Road, Kodipalya, Bengaluru   \n",
       "\n",
       "                                              geometry  \n",
       "0    MULTIPOLYGON (((77.59229 13.09720, 77.59094 13...  \n",
       "1    MULTIPOLYGON (((77.56862 13.12705, 77.57064 13...  \n",
       "2    MULTIPOLYGON (((77.59094 13.09842, 77.59229 13...  \n",
       "3    MULTIPOLYGON (((77.67683 13.01147, 77.67695 13...  \n",
       "4    MULTIPOLYGON (((77.72899 13.02061, 77.72994 13...  \n",
       "..                                                 ...  \n",
       "193  MULTIPOLYGON (((77.61399 12.92347, 77.61419 12...  \n",
       "194  MULTIPOLYGON (((77.68336 13.05192, 77.68384 13...  \n",
       "195  MULTIPOLYGON (((77.64931 13.07853, 77.64993 13...  \n",
       "196  MULTIPOLYGON (((77.68549 12.94121, 77.68539 12...  \n",
       "197  MULTIPOLYGON (((77.49854 12.92574, 77.49854 12...  \n",
       "\n",
       "[198 rows x 5 columns]"
      ]
     },
     "execution_count": 13,
     "metadata": {},
     "output_type": "execute_result"
    }
   ],
   "source": [
    "wards"
   ]
  },
  {
   "cell_type": "code",
   "execution_count": 15,
   "metadata": {},
   "outputs": [
    {
     "data": {
      "text/plain": [
       "<AxesSubplot:>"
      ]
     },
     "execution_count": 15,
     "metadata": {},
     "output_type": "execute_result"
    },
    {
     "data": {
      "image/png": "[encoded data removed]",
      "text/plain": [
       "<Figure size 720x720 with 1 Axes>"
      ]
     },
     "metadata": {
      "needs_background": "light"
     },
     "output_type": "display_data"
    }
   ],
   "source": [
    "fig, ax = plt.subplots(figsize=(10,10))\n",
    "wards['geometry'].plot(color='grey',ax=ax)"
   ]
  },
  {
   "cell_type": "markdown",
   "metadata": {},
   "source": [
    "## Data Pre-Processing"
   ]
  },
  {
   "cell_type": "markdown",
   "metadata": {},
   "source": [
    "### Travel Times"
   ]
  },
  {
   "cell_type": "markdown",
   "metadata": {},
   "source": [
    "The source data contains the travel times grouped by blocks of time (peak/off-peak etc.), defined by `start_hour` and `end_hour` columns. To allow us to model this easily, we add a `time_period` columns and assign an integer category value. "
   ]
  },
  {
   "cell_type": "code",
   "execution_count": 20,
   "metadata": {},
   "outputs": [],
   "source": [
    "categories_to_hour = {\n",
    "    1: [0, 6],\n",
    "    2: [7, 9],\n",
    "    3: [10, 15],\n",
    "    4: [16, 18],\n",
    "    5: [19, 23]\n",
    "}\n",
    "\n",
    "def get_time_period(hour):\n",
    "    for category, (start_hour, end_hour) in categories_to_hour.items():\n",
    "        if hour >= start_hour and hour <= end_hour:\n",
    "            return category"
   ]
  },
  {
   "cell_type": "code",
   "execution_count": 21,
   "metadata": {},
   "outputs": [],
   "source": [
    "travel_times['time_period'] = travel_times['start_hour'].apply(get_time_period)"
   ]
  },
  {
   "cell_type": "markdown",
   "metadata": {},
   "source": [
    "Travel time has a strong correlation with the day of the week. So we compute a new column `dow` from the day and month columns"
   ]
  },
  {
   "cell_type": "markdown",
   "metadata": {},
   "source": [
    "### Ward Boundaries"
   ]
  }
 ],
 "metadata": {
  "kernelspec": {
   "display_name": "Python 3",
   "language": "python",
   "name": "python3"
  },
  "language_info": {
   "codemirror_mode": {
    "name": "ipython",
    "version": 3
   },
   "file_extension": ".py",
   "mimetype": "text/x-python",
   "name": "python",
   "nbconvert_exporter": "python",
   "pygments_lexer": "ipython3",
   "version": "3.8.5"
  }
 },
 "nbformat": 4,
 "nbformat_minor": 4
}
